{
 "cells": [
  {
   "cell_type": "code",
   "execution_count": null,
   "id": "3b27354e",
   "metadata": {},
   "outputs": [],
   "source": [
    "# def functions for get_user_input function:\n",
    "\n",
    "def save():\n",
    "    pass\n",
    "def exit(saved):\n",
    "    pass\n",
    "\n",
    "def get_user_input(menu_select_number):\n",
    "    # add in functions here using if statements based on which menu number was selected.\n",
    "    # Print confirmation messages of what action was completed, return results of functions.\n",
    "    pass\n",
    "\n",
    "def menu_select(list_menu_options):\n",
    "    # while loop until valid input:\n",
    "        # Ask user what menu_option they would like to choose, either by number or the name of the option.\n",
    "        \n",
    "        # other elif statements to help with invalid inputs. \n",
    "        \n",
    "        # else (valid input):\n",
    "            # for loop on list_menu_options, returning integer when menu_option matches\n",
    "            # break/while loop condition = False\n",
    "    pass\n",
    "    \n",
    "# Start Up\n",
    "print(\"Welcome to the Tournament Arc!\\n========\")\n",
    "\n",
    "# Pre-select number that asks user how many participants will be in the tournament\n",
    "participants = get_user_input(menu_select_number)\n",
    "\n",
    "print(f\"There are {participants} participant slots ready for sign-ups.\")\n",
    "\n",
    "# Main Menu \n",
    "while while_condition:\n",
    "    print(\"Main Menu\\n=========\")\n",
    "\n",
    "    for x in range (0,len(list_menu_options):\n",
    "        # Have list of menu options\n",
    "        print(f\"{x}. {list_menu_options}\")\n",
    "        get_user_input(menu_select(list_menu_options))\n",
    "    want_to_save = save() # Returns user_input on whether to save or not.\n",
    "    while_condition = exit(want_to_save) # Contains if/else statements (if user_input = 'n', prompt user of unsaved changes)\n",
    "    # returns True or False for while loop condition. If user wants to exit ('y'), return False, else return True.\n"
   ]
  }
 ],
 "metadata": {
  "kernelspec": {
   "display_name": "Python 3 (ipykernel)",
   "language": "python",
   "name": "python3"
  },
  "language_info": {
   "codemirror_mode": {
    "name": "ipython",
    "version": 3
   },
   "file_extension": ".py",
   "mimetype": "text/x-python",
   "name": "python",
   "nbconvert_exporter": "python",
   "pygments_lexer": "ipython3",
   "version": "3.8.5"
  }
 },
 "nbformat": 4,
 "nbformat_minor": 5
}
